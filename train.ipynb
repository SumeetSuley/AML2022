{
 "cells": [
  {
   "cell_type": "code",
   "execution_count": 42,
   "metadata": {},
   "outputs": [],
   "source": [
    "import math\n",
    "import pandas as pd\n",
    "import numpy as np\n",
    "from sklearn.ensemble import RandomForestClassifier\n",
    "from sklearn.linear_model import LogisticRegression\n",
    "import joblib\n",
    "import warnings\n",
    "warnings.filterwarnings(\"ignore\")"
   ]
  },
  {
   "cell_type": "code",
   "execution_count": 2,
   "metadata": {},
   "outputs": [],
   "source": [
    "data_prepared = pd.read_csv(\"PreparedData.csv\")"
   ]
  },
  {
   "cell_type": "code",
   "execution_count": 3,
   "metadata": {},
   "outputs": [
    {
     "data": {
      "text/plain": [
       "(2770, 14)"
      ]
     },
     "execution_count": 3,
     "metadata": {},
     "output_type": "execute_result"
    }
   ],
   "source": [
    "data_prepared.shape"
   ]
  },
  {
   "cell_type": "code",
   "execution_count": 6,
   "metadata": {},
   "outputs": [
    {
     "data": {
      "text/plain": [
       "Index(['Date', 'Open', 'High', 'Low', 'Close', 'Volume', 'Dividends',\n",
       "       'Stock Splits', '5dma', '10dma', 'vol_change', 'pct_change',\n",
       "       'volatility', 'Target'],\n",
       "      dtype='object')"
      ]
     },
     "execution_count": 6,
     "metadata": {},
     "output_type": "execute_result"
    }
   ],
   "source": [
    "data_prepared.columns"
   ]
  },
  {
   "cell_type": "code",
   "execution_count": 14,
   "metadata": {},
   "outputs": [],
   "source": [
    "attrs = [ 'Open', 'High', 'Low', 'Close', 'Volume', 'Dividends',\n",
    "       'Stock Splits', '5dma', '10dma', 'vol_change', 'pct_change',\n",
    "       'volatility',]\n",
    "\n",
    "target = [\"Target\"]"
   ]
  },
  {
   "cell_type": "code",
   "execution_count": 18,
   "metadata": {},
   "outputs": [],
   "source": [
    "x_train, y_train, x_test, y_test = data_prepared[attrs][10:2700],data_prepared[target][10:2700], data_prepared[attrs][2700:-1], data_prepared[target][2700:-1]"
   ]
  },
  {
   "cell_type": "code",
   "execution_count": 43,
   "metadata": {},
   "outputs": [
    {
     "data": {
      "text/html": [
       "<div>\n",
       "<style scoped>\n",
       "    .dataframe tbody tr th:only-of-type {\n",
       "        vertical-align: middle;\n",
       "    }\n",
       "\n",
       "    .dataframe tbody tr th {\n",
       "        vertical-align: top;\n",
       "    }\n",
       "\n",
       "    .dataframe thead th {\n",
       "        text-align: right;\n",
       "    }\n",
       "</style>\n",
       "<table border=\"1\" class=\"dataframe\">\n",
       "  <thead>\n",
       "    <tr style=\"text-align: right;\">\n",
       "      <th></th>\n",
       "      <th>Open</th>\n",
       "      <th>High</th>\n",
       "      <th>Low</th>\n",
       "      <th>Close</th>\n",
       "      <th>Volume</th>\n",
       "      <th>Dividends</th>\n",
       "      <th>Stock Splits</th>\n",
       "      <th>5dma</th>\n",
       "      <th>10dma</th>\n",
       "      <th>vol_change</th>\n",
       "      <th>pct_change</th>\n",
       "      <th>volatility</th>\n",
       "    </tr>\n",
       "  </thead>\n",
       "  <tbody>\n",
       "    <tr>\n",
       "      <th>2700</th>\n",
       "      <td>110.604125</td>\n",
       "      <td>111.089663</td>\n",
       "      <td>105.798260</td>\n",
       "      <td>106.145081</td>\n",
       "      <td>150718700</td>\n",
       "      <td>0.0</td>\n",
       "      <td>0.0</td>\n",
       "      <td>108.243799</td>\n",
       "      <td>110.456478</td>\n",
       "      <td>-0.176650</td>\n",
       "      <td>-4.194603</td>\n",
       "      <td>0.047841</td>\n",
       "    </tr>\n",
       "    <tr>\n",
       "      <th>2701</th>\n",
       "      <td>104.212832</td>\n",
       "      <td>109.246600</td>\n",
       "      <td>104.044381</td>\n",
       "      <td>107.235077</td>\n",
       "      <td>167743300</td>\n",
       "      <td>0.0</td>\n",
       "      <td>0.0</td>\n",
       "      <td>107.823659</td>\n",
       "      <td>109.934275</td>\n",
       "      <td>0.112956</td>\n",
       "      <td>1.026893</td>\n",
       "      <td>0.049919</td>\n",
       "    </tr>\n",
       "    <tr>\n",
       "      <th>2702</th>\n",
       "      <td>107.443159</td>\n",
       "      <td>111.416665</td>\n",
       "      <td>106.690074</td>\n",
       "      <td>111.258118</td>\n",
       "      <td>149981400</td>\n",
       "      <td>0.0</td>\n",
       "      <td>0.0</td>\n",
       "      <td>108.901758</td>\n",
       "      <td>109.962020</td>\n",
       "      <td>-0.105887</td>\n",
       "      <td>3.751609</td>\n",
       "      <td>0.043992</td>\n",
       "    </tr>\n",
       "    <tr>\n",
       "      <th>2703</th>\n",
       "      <td>113.963275</td>\n",
       "      <td>114.270451</td>\n",
       "      <td>111.753567</td>\n",
       "      <td>113.913727</td>\n",
       "      <td>137672400</td>\n",
       "      <td>0.0</td>\n",
       "      <td>0.0</td>\n",
       "      <td>109.868877</td>\n",
       "      <td>109.922385</td>\n",
       "      <td>-0.082070</td>\n",
       "      <td>2.386890</td>\n",
       "      <td>0.022085</td>\n",
       "    </tr>\n",
       "    <tr>\n",
       "      <th>2704</th>\n",
       "      <td>113.507463</td>\n",
       "      <td>114.260541</td>\n",
       "      <td>112.536379</td>\n",
       "      <td>113.051643</td>\n",
       "      <td>99382200</td>\n",
       "      <td>0.0</td>\n",
       "      <td>0.0</td>\n",
       "      <td>110.320729</td>\n",
       "      <td>109.778704</td>\n",
       "      <td>-0.278125</td>\n",
       "      <td>-0.756786</td>\n",
       "      <td>0.015190</td>\n",
       "    </tr>\n",
       "    <tr>\n",
       "      <th>...</th>\n",
       "      <td>...</td>\n",
       "      <td>...</td>\n",
       "      <td>...</td>\n",
       "      <td>...</td>\n",
       "      <td>...</td>\n",
       "      <td>...</td>\n",
       "      <td>...</td>\n",
       "      <td>...</td>\n",
       "      <td>...</td>\n",
       "      <td>...</td>\n",
       "      <td>...</td>\n",
       "      <td>...</td>\n",
       "    </tr>\n",
       "    <tr>\n",
       "      <th>2764</th>\n",
       "      <td>131.183131</td>\n",
       "      <td>131.451125</td>\n",
       "      <td>129.813327</td>\n",
       "      <td>129.992004</td>\n",
       "      <td>88223700</td>\n",
       "      <td>0.0</td>\n",
       "      <td>0.0</td>\n",
       "      <td>128.330365</td>\n",
       "      <td>126.016592</td>\n",
       "      <td>-0.477672</td>\n",
       "      <td>-0.697587</td>\n",
       "      <td>0.012485</td>\n",
       "    </tr>\n",
       "    <tr>\n",
       "      <th>2765</th>\n",
       "      <td>130.349318</td>\n",
       "      <td>132.473499</td>\n",
       "      <td>130.130943</td>\n",
       "      <td>130.994507</td>\n",
       "      <td>54930100</td>\n",
       "      <td>0.0</td>\n",
       "      <td>0.0</td>\n",
       "      <td>128.979529</td>\n",
       "      <td>126.883138</td>\n",
       "      <td>-0.377377</td>\n",
       "      <td>0.771203</td>\n",
       "      <td>0.017971</td>\n",
       "    </tr>\n",
       "    <tr>\n",
       "      <th>2766</th>\n",
       "      <td>132.999587</td>\n",
       "      <td>136.324816</td>\n",
       "      <td>132.523124</td>\n",
       "      <td>135.679626</td>\n",
       "      <td>124486200</td>\n",
       "      <td>0.0</td>\n",
       "      <td>0.0</td>\n",
       "      <td>130.970699</td>\n",
       "      <td>128.300581</td>\n",
       "      <td>1.266266</td>\n",
       "      <td>3.576577</td>\n",
       "      <td>0.028584</td>\n",
       "    </tr>\n",
       "    <tr>\n",
       "      <th>2767</th>\n",
       "      <td>137.029580</td>\n",
       "      <td>137.764100</td>\n",
       "      <td>133.346996</td>\n",
       "      <td>133.873077</td>\n",
       "      <td>121047300</td>\n",
       "      <td>0.0</td>\n",
       "      <td>0.0</td>\n",
       "      <td>132.288879</td>\n",
       "      <td>129.599905</td>\n",
       "      <td>-0.027625</td>\n",
       "      <td>-1.331481</td>\n",
       "      <td>0.032235</td>\n",
       "    </tr>\n",
       "    <tr>\n",
       "      <th>2768</th>\n",
       "      <td>134.577835</td>\n",
       "      <td>134.984808</td>\n",
       "      <td>132.413941</td>\n",
       "      <td>132.731583</td>\n",
       "      <td>96452100</td>\n",
       "      <td>0.0</td>\n",
       "      <td>0.0</td>\n",
       "      <td>132.654160</td>\n",
       "      <td>130.179588</td>\n",
       "      <td>-0.203187</td>\n",
       "      <td>-0.852669</td>\n",
       "      <td>0.019103</td>\n",
       "    </tr>\n",
       "  </tbody>\n",
       "</table>\n",
       "<p>69 rows × 12 columns</p>\n",
       "</div>"
      ],
      "text/plain": [
       "            Open        High         Low       Close     Volume  Dividends  \\\n",
       "2700  110.604125  111.089663  105.798260  106.145081  150718700        0.0   \n",
       "2701  104.212832  109.246600  104.044381  107.235077  167743300        0.0   \n",
       "2702  107.443159  111.416665  106.690074  111.258118  149981400        0.0   \n",
       "2703  113.963275  114.270451  111.753567  113.913727  137672400        0.0   \n",
       "2704  113.507463  114.260541  112.536379  113.051643   99382200        0.0   \n",
       "...          ...         ...         ...         ...        ...        ...   \n",
       "2764  131.183131  131.451125  129.813327  129.992004   88223700        0.0   \n",
       "2765  130.349318  132.473499  130.130943  130.994507   54930100        0.0   \n",
       "2766  132.999587  136.324816  132.523124  135.679626  124486200        0.0   \n",
       "2767  137.029580  137.764100  133.346996  133.873077  121047300        0.0   \n",
       "2768  134.577835  134.984808  132.413941  132.731583   96452100        0.0   \n",
       "\n",
       "      Stock Splits        5dma       10dma  vol_change  pct_change  volatility  \n",
       "2700           0.0  108.243799  110.456478   -0.176650   -4.194603    0.047841  \n",
       "2701           0.0  107.823659  109.934275    0.112956    1.026893    0.049919  \n",
       "2702           0.0  108.901758  109.962020   -0.105887    3.751609    0.043992  \n",
       "2703           0.0  109.868877  109.922385   -0.082070    2.386890    0.022085  \n",
       "2704           0.0  110.320729  109.778704   -0.278125   -0.756786    0.015190  \n",
       "...            ...         ...         ...         ...         ...         ...  \n",
       "2764           0.0  128.330365  126.016592   -0.477672   -0.697587    0.012485  \n",
       "2765           0.0  128.979529  126.883138   -0.377377    0.771203    0.017971  \n",
       "2766           0.0  130.970699  128.300581    1.266266    3.576577    0.028584  \n",
       "2767           0.0  132.288879  129.599905   -0.027625   -1.331481    0.032235  \n",
       "2768           0.0  132.654160  130.179588   -0.203187   -0.852669    0.019103  \n",
       "\n",
       "[69 rows x 12 columns]"
      ]
     },
     "execution_count": 43,
     "metadata": {},
     "output_type": "execute_result"
    }
   ],
   "source": [
    "x_test"
   ]
  },
  {
   "cell_type": "code",
   "execution_count": 19,
   "metadata": {},
   "outputs": [],
   "source": [
    "lr_clf = LogisticRegression()"
   ]
  },
  {
   "cell_type": "code",
   "execution_count": 20,
   "metadata": {},
   "outputs": [
    {
     "name": "stderr",
     "output_type": "stream",
     "text": [
      "C:\\Users\\sumeet\\AppData\\Local\\Programs\\Python\\Python38-32\\lib\\site-packages\\sklearn\\utils\\validation.py:993: DataConversionWarning: A column-vector y was passed when a 1d array was expected. Please change the shape of y to (n_samples, ), for example using ravel().\n",
      "  y = column_or_1d(y, warn=True)\n"
     ]
    },
    {
     "data": {
      "text/plain": [
       "LogisticRegression()"
      ]
     },
     "execution_count": 20,
     "metadata": {},
     "output_type": "execute_result"
    }
   ],
   "source": [
    "lr_clf.fit(x_train, y_train)"
   ]
  },
  {
   "cell_type": "code",
   "execution_count": 21,
   "metadata": {},
   "outputs": [],
   "source": [
    "y_pred = lr_clf.predict(x_test)"
   ]
  },
  {
   "cell_type": "code",
   "execution_count": 22,
   "metadata": {},
   "outputs": [],
   "source": [
    "from sklearn.metrics import accuracy_score, precision_score, confusion_matrix, classification_report"
   ]
  },
  {
   "cell_type": "code",
   "execution_count": 32,
   "metadata": {},
   "outputs": [],
   "source": [
    "rf_clf = RandomForestClassifier(n_estimators=500)"
   ]
  },
  {
   "cell_type": "code",
   "execution_count": 33,
   "metadata": {},
   "outputs": [
    {
     "data": {
      "text/plain": [
       "RandomForestClassifier(n_estimators=500)"
      ]
     },
     "execution_count": 33,
     "metadata": {},
     "output_type": "execute_result"
    }
   ],
   "source": [
    "rf_clf.fit(x_train, y_train)"
   ]
  },
  {
   "cell_type": "code",
   "execution_count": 34,
   "metadata": {},
   "outputs": [],
   "source": [
    "y_pred_rf = rf_clf.predict(x_test)"
   ]
  },
  {
   "cell_type": "code",
   "execution_count": 37,
   "metadata": {},
   "outputs": [],
   "source": [
    "lr_filename = \"lr_model.sav\"\n",
    "rf_filename = \"rf_filename.sav\""
   ]
  },
  {
   "cell_type": "code",
   "execution_count": 38,
   "metadata": {},
   "outputs": [
    {
     "data": {
      "text/plain": [
       "['rf_filename.sav']"
      ]
     },
     "execution_count": 38,
     "metadata": {},
     "output_type": "execute_result"
    }
   ],
   "source": [
    "joblib.dump(lr_clf, lr_filename)\n",
    "joblib.dump(rf_clf, rf_filename)"
   ]
  },
  {
   "cell_type": "code",
   "execution_count": 40,
   "metadata": {},
   "outputs": [],
   "source": [
    "x_test.to_csv(\"x_test.csv\")"
   ]
  },
  {
   "cell_type": "code",
   "execution_count": 41,
   "metadata": {},
   "outputs": [],
   "source": [
    "y_test.to_csv(\"y_test.csv\")"
   ]
  }
 ],
 "metadata": {
  "interpreter": {
   "hash": "9b57928f482539b5af9e15bccb9be7ac321b1f0305c9741db6d98e0a74691227"
  },
  "kernelspec": {
   "display_name": "Python 3.8.3 32-bit",
   "language": "python",
   "name": "python3"
  },
  "language_info": {
   "codemirror_mode": {
    "name": "ipython",
    "version": 3
   },
   "file_extension": ".py",
   "mimetype": "text/x-python",
   "name": "python",
   "nbconvert_exporter": "python",
   "pygments_lexer": "ipython3",
   "version": "3.8.3"
  },
  "orig_nbformat": 4
 },
 "nbformat": 4,
 "nbformat_minor": 2
}
