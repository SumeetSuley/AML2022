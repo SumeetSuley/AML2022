{
 "cells": [
  {
   "cell_type": "code",
   "execution_count": 1,
   "metadata": {},
   "outputs": [],
   "source": [
    "import pandas as pd \n",
    "import numpy as np \n",
    "import yfinance as yf "
   ]
  },
  {
   "cell_type": "code",
   "execution_count": 3,
   "metadata": {},
   "outputs": [],
   "source": [
    "apple = yf.Ticker(\"AAPL\")"
   ]
  },
  {
   "cell_type": "code",
   "execution_count": 5,
   "metadata": {},
   "outputs": [],
   "source": [
    "data_raw = apple.history(start=\"2010-01-01\",end = \"2021-01-01\")"
   ]
  },
  {
   "cell_type": "code",
   "execution_count": 6,
   "metadata": {},
   "outputs": [
    {
     "data": {
      "text/html": [
       "<div>\n",
       "<style scoped>\n",
       "    .dataframe tbody tr th:only-of-type {\n",
       "        vertical-align: middle;\n",
       "    }\n",
       "\n",
       "    .dataframe tbody tr th {\n",
       "        vertical-align: top;\n",
       "    }\n",
       "\n",
       "    .dataframe thead th {\n",
       "        text-align: right;\n",
       "    }\n",
       "</style>\n",
       "<table border=\"1\" class=\"dataframe\">\n",
       "  <thead>\n",
       "    <tr style=\"text-align: right;\">\n",
       "      <th></th>\n",
       "      <th>Open</th>\n",
       "      <th>High</th>\n",
       "      <th>Low</th>\n",
       "      <th>Close</th>\n",
       "      <th>Volume</th>\n",
       "      <th>Dividends</th>\n",
       "      <th>Stock Splits</th>\n",
       "    </tr>\n",
       "    <tr>\n",
       "      <th>Date</th>\n",
       "      <th></th>\n",
       "      <th></th>\n",
       "      <th></th>\n",
       "      <th></th>\n",
       "      <th></th>\n",
       "      <th></th>\n",
       "      <th></th>\n",
       "    </tr>\n",
       "  </thead>\n",
       "  <tbody>\n",
       "    <tr>\n",
       "      <th>2009-12-31</th>\n",
       "      <td>6.517776</td>\n",
       "      <td>6.524504</td>\n",
       "      <td>6.439182</td>\n",
       "      <td>6.444380</td>\n",
       "      <td>352410800</td>\n",
       "      <td>0.0</td>\n",
       "      <td>0.0</td>\n",
       "    </tr>\n",
       "    <tr>\n",
       "      <th>2010-01-04</th>\n",
       "      <td>6.526950</td>\n",
       "      <td>6.559672</td>\n",
       "      <td>6.494839</td>\n",
       "      <td>6.544687</td>\n",
       "      <td>493729600</td>\n",
       "      <td>0.0</td>\n",
       "      <td>0.0</td>\n",
       "    </tr>\n",
       "    <tr>\n",
       "      <th>2010-01-05</th>\n",
       "      <td>6.562731</td>\n",
       "      <td>6.593006</td>\n",
       "      <td>6.521446</td>\n",
       "      <td>6.556003</td>\n",
       "      <td>601904800</td>\n",
       "      <td>0.0</td>\n",
       "      <td>0.0</td>\n",
       "    </tr>\n",
       "    <tr>\n",
       "      <th>2010-01-06</th>\n",
       "      <td>6.556004</td>\n",
       "      <td>6.581998</td>\n",
       "      <td>6.444994</td>\n",
       "      <td>6.451722</td>\n",
       "      <td>552160000</td>\n",
       "      <td>0.0</td>\n",
       "      <td>0.0</td>\n",
       "    </tr>\n",
       "    <tr>\n",
       "      <th>2010-01-07</th>\n",
       "      <td>6.475573</td>\n",
       "      <td>6.483219</td>\n",
       "      <td>6.393004</td>\n",
       "      <td>6.439793</td>\n",
       "      <td>477131200</td>\n",
       "      <td>0.0</td>\n",
       "      <td>0.0</td>\n",
       "    </tr>\n",
       "  </tbody>\n",
       "</table>\n",
       "</div>"
      ],
      "text/plain": [
       "                Open      High       Low     Close     Volume  Dividends  \\\n",
       "Date                                                                       \n",
       "2009-12-31  6.517776  6.524504  6.439182  6.444380  352410800        0.0   \n",
       "2010-01-04  6.526950  6.559672  6.494839  6.544687  493729600        0.0   \n",
       "2010-01-05  6.562731  6.593006  6.521446  6.556003  601904800        0.0   \n",
       "2010-01-06  6.556004  6.581998  6.444994  6.451722  552160000        0.0   \n",
       "2010-01-07  6.475573  6.483219  6.393004  6.439793  477131200        0.0   \n",
       "\n",
       "            Stock Splits  \n",
       "Date                      \n",
       "2009-12-31           0.0  \n",
       "2010-01-04           0.0  \n",
       "2010-01-05           0.0  \n",
       "2010-01-06           0.0  \n",
       "2010-01-07           0.0  "
      ]
     },
     "execution_count": 6,
     "metadata": {},
     "output_type": "execute_result"
    }
   ],
   "source": [
    "data_raw.head()"
   ]
  },
  {
   "cell_type": "code",
   "execution_count": 7,
   "metadata": {},
   "outputs": [
    {
     "data": {
      "text/plain": [
       "(2770, 7)"
      ]
     },
     "execution_count": 7,
     "metadata": {},
     "output_type": "execute_result"
    }
   ],
   "source": [
    "data_raw.shape"
   ]
  },
  {
   "cell_type": "code",
   "execution_count": 8,
   "metadata": {},
   "outputs": [
    {
     "data": {
      "text/html": [
       "<div>\n",
       "<style scoped>\n",
       "    .dataframe tbody tr th:only-of-type {\n",
       "        vertical-align: middle;\n",
       "    }\n",
       "\n",
       "    .dataframe tbody tr th {\n",
       "        vertical-align: top;\n",
       "    }\n",
       "\n",
       "    .dataframe thead th {\n",
       "        text-align: right;\n",
       "    }\n",
       "</style>\n",
       "<table border=\"1\" class=\"dataframe\">\n",
       "  <thead>\n",
       "    <tr style=\"text-align: right;\">\n",
       "      <th></th>\n",
       "      <th>Open</th>\n",
       "      <th>High</th>\n",
       "      <th>Low</th>\n",
       "      <th>Close</th>\n",
       "      <th>Volume</th>\n",
       "      <th>Dividends</th>\n",
       "      <th>Stock Splits</th>\n",
       "    </tr>\n",
       "  </thead>\n",
       "  <tbody>\n",
       "    <tr>\n",
       "      <th>count</th>\n",
       "      <td>2770.000000</td>\n",
       "      <td>2770.000000</td>\n",
       "      <td>2770.000000</td>\n",
       "      <td>2770.000000</td>\n",
       "      <td>2.770000e+03</td>\n",
       "      <td>2770.000000</td>\n",
       "      <td>2770.000000</td>\n",
       "    </tr>\n",
       "    <tr>\n",
       "      <th>mean</th>\n",
       "      <td>31.860089</td>\n",
       "      <td>32.192432</td>\n",
       "      <td>31.528051</td>\n",
       "      <td>31.873388</td>\n",
       "      <td>2.866399e+08</td>\n",
       "      <td>0.001814</td>\n",
       "      <td>0.003971</td>\n",
       "    </tr>\n",
       "    <tr>\n",
       "      <th>std</th>\n",
       "      <td>24.853383</td>\n",
       "      <td>25.189297</td>\n",
       "      <td>24.510128</td>\n",
       "      <td>24.864564</td>\n",
       "      <td>2.289079e+08</td>\n",
       "      <td>0.016741</td>\n",
       "      <td>0.153161</td>\n",
       "    </tr>\n",
       "    <tr>\n",
       "      <th>min</th>\n",
       "      <td>5.882908</td>\n",
       "      <td>5.993918</td>\n",
       "      <td>5.818077</td>\n",
       "      <td>5.873124</td>\n",
       "      <td>4.544800e+07</td>\n",
       "      <td>0.000000</td>\n",
       "      <td>0.000000</td>\n",
       "    </tr>\n",
       "    <tr>\n",
       "      <th>25%</th>\n",
       "      <td>15.302907</td>\n",
       "      <td>15.481824</td>\n",
       "      <td>15.195127</td>\n",
       "      <td>15.346522</td>\n",
       "      <td>1.211217e+08</td>\n",
       "      <td>0.000000</td>\n",
       "      <td>0.000000</td>\n",
       "    </tr>\n",
       "    <tr>\n",
       "      <th>50%</th>\n",
       "      <td>24.857038</td>\n",
       "      <td>25.113629</td>\n",
       "      <td>24.569916</td>\n",
       "      <td>24.791562</td>\n",
       "      <td>2.030340e+08</td>\n",
       "      <td>0.000000</td>\n",
       "      <td>0.000000</td>\n",
       "    </tr>\n",
       "    <tr>\n",
       "      <th>75%</th>\n",
       "      <td>41.326669</td>\n",
       "      <td>41.681155</td>\n",
       "      <td>41.071279</td>\n",
       "      <td>41.346450</td>\n",
       "      <td>3.889732e+08</td>\n",
       "      <td>0.000000</td>\n",
       "      <td>0.000000</td>\n",
       "    </tr>\n",
       "    <tr>\n",
       "      <th>max</th>\n",
       "      <td>137.029580</td>\n",
       "      <td>137.764100</td>\n",
       "      <td>133.346996</td>\n",
       "      <td>135.679657</td>\n",
       "      <td>1.880998e+09</td>\n",
       "      <td>0.205000</td>\n",
       "      <td>7.000000</td>\n",
       "    </tr>\n",
       "  </tbody>\n",
       "</table>\n",
       "</div>"
      ],
      "text/plain": [
       "              Open         High          Low        Close        Volume  \\\n",
       "count  2770.000000  2770.000000  2770.000000  2770.000000  2.770000e+03   \n",
       "mean     31.860089    32.192432    31.528051    31.873388  2.866399e+08   \n",
       "std      24.853383    25.189297    24.510128    24.864564  2.289079e+08   \n",
       "min       5.882908     5.993918     5.818077     5.873124  4.544800e+07   \n",
       "25%      15.302907    15.481824    15.195127    15.346522  1.211217e+08   \n",
       "50%      24.857038    25.113629    24.569916    24.791562  2.030340e+08   \n",
       "75%      41.326669    41.681155    41.071279    41.346450  3.889732e+08   \n",
       "max     137.029580   137.764100   133.346996   135.679657  1.880998e+09   \n",
       "\n",
       "         Dividends  Stock Splits  \n",
       "count  2770.000000   2770.000000  \n",
       "mean      0.001814      0.003971  \n",
       "std       0.016741      0.153161  \n",
       "min       0.000000      0.000000  \n",
       "25%       0.000000      0.000000  \n",
       "50%       0.000000      0.000000  \n",
       "75%       0.000000      0.000000  \n",
       "max       0.205000      7.000000  "
      ]
     },
     "execution_count": 8,
     "metadata": {},
     "output_type": "execute_result"
    }
   ],
   "source": [
    "data_raw.describe()"
   ]
  },
  {
   "cell_type": "code",
   "execution_count": 9,
   "metadata": {},
   "outputs": [
    {
     "data": {
      "text/plain": [
       "Open            False\n",
       "High            False\n",
       "Low             False\n",
       "Close           False\n",
       "Volume          False\n",
       "Dividends       False\n",
       "Stock Splits    False\n",
       "dtype: bool"
      ]
     },
     "execution_count": 9,
     "metadata": {},
     "output_type": "execute_result"
    }
   ],
   "source": [
    "data_raw.isnull().any()"
   ]
  },
  {
   "cell_type": "code",
   "execution_count": 10,
   "metadata": {},
   "outputs": [],
   "source": [
    "data_prepared = data_raw.copy(deep=True)"
   ]
  },
  {
   "cell_type": "code",
   "execution_count": 11,
   "metadata": {},
   "outputs": [
    {
     "data": {
      "text/html": [
       "<div>\n",
       "<style scoped>\n",
       "    .dataframe tbody tr th:only-of-type {\n",
       "        vertical-align: middle;\n",
       "    }\n",
       "\n",
       "    .dataframe tbody tr th {\n",
       "        vertical-align: top;\n",
       "    }\n",
       "\n",
       "    .dataframe thead th {\n",
       "        text-align: right;\n",
       "    }\n",
       "</style>\n",
       "<table border=\"1\" class=\"dataframe\">\n",
       "  <thead>\n",
       "    <tr style=\"text-align: right;\">\n",
       "      <th></th>\n",
       "      <th>Open</th>\n",
       "      <th>High</th>\n",
       "      <th>Low</th>\n",
       "      <th>Close</th>\n",
       "      <th>Volume</th>\n",
       "      <th>Dividends</th>\n",
       "      <th>Stock Splits</th>\n",
       "    </tr>\n",
       "    <tr>\n",
       "      <th>Date</th>\n",
       "      <th></th>\n",
       "      <th></th>\n",
       "      <th></th>\n",
       "      <th></th>\n",
       "      <th></th>\n",
       "      <th></th>\n",
       "      <th></th>\n",
       "    </tr>\n",
       "  </thead>\n",
       "  <tbody>\n",
       "    <tr>\n",
       "      <th>2020-12-24</th>\n",
       "      <td>130.349333</td>\n",
       "      <td>132.473514</td>\n",
       "      <td>130.130958</td>\n",
       "      <td>130.994522</td>\n",
       "      <td>54930100</td>\n",
       "      <td>0.0</td>\n",
       "      <td>0.0</td>\n",
       "    </tr>\n",
       "    <tr>\n",
       "      <th>2020-12-28</th>\n",
       "      <td>132.999617</td>\n",
       "      <td>136.324846</td>\n",
       "      <td>132.523154</td>\n",
       "      <td>135.679657</td>\n",
       "      <td>124486200</td>\n",
       "      <td>0.0</td>\n",
       "      <td>0.0</td>\n",
       "    </tr>\n",
       "    <tr>\n",
       "      <th>2020-12-29</th>\n",
       "      <td>137.029580</td>\n",
       "      <td>137.764100</td>\n",
       "      <td>133.346996</td>\n",
       "      <td>133.873077</td>\n",
       "      <td>121047300</td>\n",
       "      <td>0.0</td>\n",
       "      <td>0.0</td>\n",
       "    </tr>\n",
       "    <tr>\n",
       "      <th>2020-12-30</th>\n",
       "      <td>134.577850</td>\n",
       "      <td>134.984823</td>\n",
       "      <td>132.413956</td>\n",
       "      <td>132.731598</td>\n",
       "      <td>96452100</td>\n",
       "      <td>0.0</td>\n",
       "      <td>0.0</td>\n",
       "    </tr>\n",
       "    <tr>\n",
       "      <th>2020-12-31</th>\n",
       "      <td>133.088938</td>\n",
       "      <td>133.744064</td>\n",
       "      <td>130.746382</td>\n",
       "      <td>131.709213</td>\n",
       "      <td>99116600</td>\n",
       "      <td>0.0</td>\n",
       "      <td>0.0</td>\n",
       "    </tr>\n",
       "  </tbody>\n",
       "</table>\n",
       "</div>"
      ],
      "text/plain": [
       "                  Open        High         Low       Close     Volume  \\\n",
       "Date                                                                    \n",
       "2020-12-24  130.349333  132.473514  130.130958  130.994522   54930100   \n",
       "2020-12-28  132.999617  136.324846  132.523154  135.679657  124486200   \n",
       "2020-12-29  137.029580  137.764100  133.346996  133.873077  121047300   \n",
       "2020-12-30  134.577850  134.984823  132.413956  132.731598   96452100   \n",
       "2020-12-31  133.088938  133.744064  130.746382  131.709213   99116600   \n",
       "\n",
       "            Dividends  Stock Splits  \n",
       "Date                                 \n",
       "2020-12-24        0.0           0.0  \n",
       "2020-12-28        0.0           0.0  \n",
       "2020-12-29        0.0           0.0  \n",
       "2020-12-30        0.0           0.0  \n",
       "2020-12-31        0.0           0.0  "
      ]
     },
     "execution_count": 11,
     "metadata": {},
     "output_type": "execute_result"
    }
   ],
   "source": [
    "data_prepared.tail()"
   ]
  },
  {
   "cell_type": "code",
   "execution_count": 12,
   "metadata": {},
   "outputs": [],
   "source": [
    "data_prepared[\"5dma\"] = data_prepared['Close'].rolling(5).mean()"
   ]
  },
  {
   "cell_type": "code",
   "execution_count": 13,
   "metadata": {},
   "outputs": [],
   "source": [
    "data_prepared[\"10dma\"] = data_prepared['Close'].rolling(10).mean()"
   ]
  },
  {
   "cell_type": "code",
   "execution_count": 14,
   "metadata": {},
   "outputs": [],
   "source": [
    "data_prepared[\"vol_change\"] = data_prepared[\"Volume\"].pct_change()"
   ]
  },
  {
   "cell_type": "code",
   "execution_count": 15,
   "metadata": {},
   "outputs": [],
   "source": [
    "data_prepared[\"pct_change\"] = data_prepared[\"Close\"].pct_change()*100"
   ]
  },
  {
   "cell_type": "code",
   "execution_count": 16,
   "metadata": {},
   "outputs": [],
   "source": [
    "data_prepared[\"volatility\"] = (data_prepared['High'] - data_prepared['Low'])/data_prepared['Open']"
   ]
  },
  {
   "cell_type": "code",
   "execution_count": 17,
   "metadata": {},
   "outputs": [],
   "source": [
    "data_prepared[\"Target\"] = 0"
   ]
  },
  {
   "cell_type": "code",
   "execution_count": 18,
   "metadata": {},
   "outputs": [],
   "source": [
    "data_prepared[\"Target\"] = data_prepared[\"Open\"] < data_prepared[\"Close\"]"
   ]
  },
  {
   "cell_type": "code",
   "execution_count": 19,
   "metadata": {},
   "outputs": [],
   "source": [
    "data_prepared[\"Target\"] = data_prepared[\"Target\"].astype(int)"
   ]
  },
  {
   "cell_type": "code",
   "execution_count": 20,
   "metadata": {},
   "outputs": [],
   "source": [
    "data_prepared[\"Target\"] = data_prepared[\"Target\"].shift(-1)"
   ]
  },
  {
   "cell_type": "code",
   "execution_count": 21,
   "metadata": {},
   "outputs": [
    {
     "data": {
      "text/plain": [
       "1.0    1439\n",
       "0.0    1330\n",
       "Name: Target, dtype: int64"
      ]
     },
     "execution_count": 21,
     "metadata": {},
     "output_type": "execute_result"
    }
   ],
   "source": [
    "data_prepared[\"Target\"].value_counts()"
   ]
  },
  {
   "cell_type": "code",
   "execution_count": 22,
   "metadata": {},
   "outputs": [
    {
     "data": {
      "text/html": [
       "<div>\n",
       "<style scoped>\n",
       "    .dataframe tbody tr th:only-of-type {\n",
       "        vertical-align: middle;\n",
       "    }\n",
       "\n",
       "    .dataframe tbody tr th {\n",
       "        vertical-align: top;\n",
       "    }\n",
       "\n",
       "    .dataframe thead th {\n",
       "        text-align: right;\n",
       "    }\n",
       "</style>\n",
       "<table border=\"1\" class=\"dataframe\">\n",
       "  <thead>\n",
       "    <tr style=\"text-align: right;\">\n",
       "      <th></th>\n",
       "      <th>Open</th>\n",
       "      <th>High</th>\n",
       "      <th>Low</th>\n",
       "      <th>Close</th>\n",
       "      <th>Volume</th>\n",
       "      <th>Dividends</th>\n",
       "      <th>Stock Splits</th>\n",
       "      <th>5dma</th>\n",
       "      <th>10dma</th>\n",
       "      <th>vol_change</th>\n",
       "      <th>pct_change</th>\n",
       "      <th>volatility</th>\n",
       "      <th>Target</th>\n",
       "    </tr>\n",
       "    <tr>\n",
       "      <th>Date</th>\n",
       "      <th></th>\n",
       "      <th></th>\n",
       "      <th></th>\n",
       "      <th></th>\n",
       "      <th></th>\n",
       "      <th></th>\n",
       "      <th></th>\n",
       "      <th></th>\n",
       "      <th></th>\n",
       "      <th></th>\n",
       "      <th></th>\n",
       "      <th></th>\n",
       "      <th></th>\n",
       "    </tr>\n",
       "  </thead>\n",
       "  <tbody>\n",
       "    <tr>\n",
       "      <th>2009-12-31</th>\n",
       "      <td>6.517776</td>\n",
       "      <td>6.524504</td>\n",
       "      <td>6.439182</td>\n",
       "      <td>6.444380</td>\n",
       "      <td>352410800</td>\n",
       "      <td>0.0</td>\n",
       "      <td>0.0</td>\n",
       "      <td>NaN</td>\n",
       "      <td>NaN</td>\n",
       "      <td>NaN</td>\n",
       "      <td>NaN</td>\n",
       "      <td>0.013091</td>\n",
       "      <td>1.0</td>\n",
       "    </tr>\n",
       "    <tr>\n",
       "      <th>2010-01-04</th>\n",
       "      <td>6.526950</td>\n",
       "      <td>6.559672</td>\n",
       "      <td>6.494839</td>\n",
       "      <td>6.544687</td>\n",
       "      <td>493729600</td>\n",
       "      <td>0.0</td>\n",
       "      <td>0.0</td>\n",
       "      <td>NaN</td>\n",
       "      <td>NaN</td>\n",
       "      <td>0.401006</td>\n",
       "      <td>1.556496</td>\n",
       "      <td>0.009933</td>\n",
       "      <td>0.0</td>\n",
       "    </tr>\n",
       "    <tr>\n",
       "      <th>2010-01-05</th>\n",
       "      <td>6.562731</td>\n",
       "      <td>6.593006</td>\n",
       "      <td>6.521446</td>\n",
       "      <td>6.556003</td>\n",
       "      <td>601904800</td>\n",
       "      <td>0.0</td>\n",
       "      <td>0.0</td>\n",
       "      <td>NaN</td>\n",
       "      <td>NaN</td>\n",
       "      <td>0.219098</td>\n",
       "      <td>0.172908</td>\n",
       "      <td>0.010904</td>\n",
       "      <td>0.0</td>\n",
       "    </tr>\n",
       "    <tr>\n",
       "      <th>2010-01-06</th>\n",
       "      <td>6.556004</td>\n",
       "      <td>6.581998</td>\n",
       "      <td>6.444994</td>\n",
       "      <td>6.451722</td>\n",
       "      <td>552160000</td>\n",
       "      <td>0.0</td>\n",
       "      <td>0.0</td>\n",
       "      <td>NaN</td>\n",
       "      <td>NaN</td>\n",
       "      <td>-0.082646</td>\n",
       "      <td>-1.590618</td>\n",
       "      <td>0.020898</td>\n",
       "      <td>0.0</td>\n",
       "    </tr>\n",
       "    <tr>\n",
       "      <th>2010-01-07</th>\n",
       "      <td>6.475573</td>\n",
       "      <td>6.483219</td>\n",
       "      <td>6.393004</td>\n",
       "      <td>6.439793</td>\n",
       "      <td>477131200</td>\n",
       "      <td>0.0</td>\n",
       "      <td>0.0</td>\n",
       "      <td>6.487317</td>\n",
       "      <td>NaN</td>\n",
       "      <td>-0.135882</td>\n",
       "      <td>-0.184904</td>\n",
       "      <td>0.013932</td>\n",
       "      <td>1.0</td>\n",
       "    </tr>\n",
       "  </tbody>\n",
       "</table>\n",
       "</div>"
      ],
      "text/plain": [
       "                Open      High       Low     Close     Volume  Dividends  \\\n",
       "Date                                                                       \n",
       "2009-12-31  6.517776  6.524504  6.439182  6.444380  352410800        0.0   \n",
       "2010-01-04  6.526950  6.559672  6.494839  6.544687  493729600        0.0   \n",
       "2010-01-05  6.562731  6.593006  6.521446  6.556003  601904800        0.0   \n",
       "2010-01-06  6.556004  6.581998  6.444994  6.451722  552160000        0.0   \n",
       "2010-01-07  6.475573  6.483219  6.393004  6.439793  477131200        0.0   \n",
       "\n",
       "            Stock Splits      5dma  10dma  vol_change  pct_change  volatility  \\\n",
       "Date                                                                            \n",
       "2009-12-31           0.0       NaN    NaN         NaN         NaN    0.013091   \n",
       "2010-01-04           0.0       NaN    NaN    0.401006    1.556496    0.009933   \n",
       "2010-01-05           0.0       NaN    NaN    0.219098    0.172908    0.010904   \n",
       "2010-01-06           0.0       NaN    NaN   -0.082646   -1.590618    0.020898   \n",
       "2010-01-07           0.0  6.487317    NaN   -0.135882   -0.184904    0.013932   \n",
       "\n",
       "            Target  \n",
       "Date                \n",
       "2009-12-31     1.0  \n",
       "2010-01-04     0.0  \n",
       "2010-01-05     0.0  \n",
       "2010-01-06     0.0  \n",
       "2010-01-07     1.0  "
      ]
     },
     "execution_count": 22,
     "metadata": {},
     "output_type": "execute_result"
    }
   ],
   "source": [
    "data_prepared.head()"
   ]
  },
  {
   "cell_type": "code",
   "execution_count": 23,
   "metadata": {},
   "outputs": [],
   "source": [
    "data_prepared.to_csv(\"PreparedData.csv\")"
   ]
  }
 ],
 "metadata": {
  "interpreter": {
   "hash": "9b57928f482539b5af9e15bccb9be7ac321b1f0305c9741db6d98e0a74691227"
  },
  "kernelspec": {
   "display_name": "Python 3.8.3 32-bit",
   "language": "python",
   "name": "python3"
  },
  "language_info": {
   "codemirror_mode": {
    "name": "ipython",
    "version": 3
   },
   "file_extension": ".py",
   "mimetype": "text/x-python",
   "name": "python",
   "nbconvert_exporter": "python",
   "pygments_lexer": "ipython3",
   "version": "3.8.3"
  },
  "orig_nbformat": 4
 },
 "nbformat": 4,
 "nbformat_minor": 2
}
